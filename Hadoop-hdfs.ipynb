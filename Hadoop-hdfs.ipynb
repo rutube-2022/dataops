{
  "nbformat": 4,
  "nbformat_minor": 0,
  "metadata": {
    "colab": {
      "provenance": []
    },
    "kernelspec": {
      "name": "python3",
      "display_name": "Python 3"
    },
    "language_info": {
      "name": "python"
    }
  },
  "cells": [
    {
      "cell_type": "markdown",
      "source": [
        "# Установка Hadoop\n"
      ],
      "metadata": {
        "id": "fkpgnPepr7oD"
      }
    },
    {
      "cell_type": "markdown",
      "source": [
        "## Docker compose"
      ],
      "metadata": {
        "id": "jq4MW05RFc3F"
      }
    },
    {
      "cell_type": "code",
      "execution_count": null,
      "metadata": {
        "id": "Xzg0cAe0rtR2"
      },
      "outputs": [],
      "source": [
        "version: '3' # Версия docker-compose\n",
        "services:\n",
        "# namenode управляет файловой системой и обеспечивает правильную работу кластера, распределяя задачи между DataNode и поддерживая целостность данных\n",
        "  namenode:\n",
        "    image: bde2020/hadoop-namenode:2.0.0-hadoop3.2.1-java8 # Образ для namenode\n",
        "    container_name: namenode # имя контейнера\n",
        "    hostname: namenode # имя хоста внутри сети Докера, по этому хосту могут обращаться другие контейнеры\n",
        "    environment:\n",
        "      - CLUSTER_NAME=test # название кластера\n",
        "      - CORE_CONF_fs_defaultFS=hdfs://namenode:8020 # ссылка на файловую систему hdfs\n",
        "      - HDFS_CONF_dfs_replication=1 # количество реплик для данных в  hdfs\n",
        "      - HDFS_CONF_dfs_permissions_enabled=false # Проверка разрешений\n",
        "    ports:\n",
        "      - \"9870:9870\" # порт для веб-интерфейса name node\n",
        "      - \"9000:9000\" # RPC порт для взаимодействия\n",
        "    volumes:\n",
        "      - namenode:/hadoop/dfs/name # Привязывает том namenode к директории внутри контейнера, что позволяет сохранять метаданные файловой системы.\n",
        "    networks:\n",
        "      - hadoop # название сети к которой подключается контейнер\n",
        "# datanode обеспечивает хранение и доступ к данным\n",
        "  datanode:\n",
        "    image: bde2020/hadoop-datanode:2.0.0-hadoop3.2.1-java8 # Образ для datanode\n",
        "    container_name: datanode # Название контейнера\n",
        "    environment:\n",
        "      - CORE_CONF_fs_defaultFS=hdfs://namenode:8020 # указываем как обратиться к namenode\n",
        "      - HDFS_CONF_dfs_datanode_hostname=datanode # имя хоста datanode\n",
        "    volumes:\n",
        "      - datanode:/hadoop/dfs/data # привязываем datanode к директории\n",
        "    ports:\n",
        "      - \"9864:9864\" # порт для коммуникации\n",
        "    networks:\n",
        "      - hadoop # Название сети\n",
        "    depends_on:\n",
        "      - namenode # указываем что этот контейнер должен быть запущен после запуска namenode\n",
        "#  recourcemanager является  координатором который распределяет ресурсы и контролирует выполнение приложений\n",
        "  resourcemanager:\n",
        "    image: bde2020/hadoop-resourcemanager:2.0.0-hadoop3.2.1-java8 # образ для recourcemanager\n",
        "    container_name: resourcemanager # название контейнера\n",
        "    environment:\n",
        "      - YARN_CONF_yarn_resourcemanager_hostname=resourcemanager # имя хоста\n",
        "      - YARN_CONF_yarn_scheduler_capacity_root_default_maximum_am_resource_percent=0.5 # максимальный процент ресурсов\n",
        "    ports:\n",
        "      - \"8088:8088\" # порт для веб\n",
        "    networks:\n",
        "      - hadoop\n",
        "    depends_on:\n",
        "      - namenode\n",
        "      - datanode\n",
        "# nodemanager управляет ресурсами на каждом отдельном узле и отвечает за выполнение задач, назначенных этому узлу\n",
        "  nodemanager:\n",
        "    image: bde2020/hadoop-nodemanager:2.0.0-hadoop3.2.1-java8\n",
        "    container_name: nodemanager\n",
        "    environment:\n",
        "      - YARN_CONF_yarn_nodemanager_resource_memory_mb=4096 # объем оперативной памяти доступный для контенеров\n",
        "      - YARN_CONF_yarn_nodemanager_resource_cpu_vcores=4 # количество виртуальных процессоров\n",
        "    networks:\n",
        "      - hadoop\n",
        "    depends_on:\n",
        "      - resourcemanager\n",
        "# historyserver нужен для того, чтобы собирать, хранить и предоставлять доступ к информации о завершённых задачах и приложениях\n",
        "  historyserver:\n",
        "    image: bde2020/hadoop-historyserver:2.0.0-hadoop3.2.1-java8\n",
        "    container_name: historyserver\n",
        "    environment:\n",
        "      - HADOOP_MAPRED_HOME=/hadoop # путь к домашнему коталогу\n",
        "      - YARN_CONF_yarn_log_server_url=http://historyserver:8188/applicationhistory # ссылка для доступа к журналам\n",
        "    ports:\n",
        "      - \"8188:8188\"\n",
        "    networks:\n",
        "      - hadoop\n",
        "    depends_on:\n",
        "      - namenode\n",
        "      - resourcemanager\n",
        "      - nodemanager\n",
        "\n",
        "networks:\n",
        "  hadoop:\n",
        "    driver: bridge\n",
        "\n",
        "volumes: # создание томов для сохранения данных вне контейнеров\n",
        "  namenode:\n",
        "  datanode:"
      ]
    },
    {
      "cell_type": "code",
      "source": [
        "datanode:\n",
        "    image: bde2020/hadoop-datanode:2.0.0-hadoop3.2.1-java8\n",
        "    environment:\n",
        "      - CORE_CONF_fs_defaultFS=hdfs://namenode:8020\n",
        "      - HDFS_CONF_dfs_datanode_hostname=datanode\n",
        "    volumes:\n",
        "      - datanode:/hadoop/dfs/data\n",
        "    ports:\n",
        "      - \"9864:9864\"\n",
        "    networks:\n",
        "      - hadoop\n",
        "    depends_on:\n",
        "      - namenode\n",
        "    deploy:\n",
        "      replicas: 3  # количество datanode контейнеров"
      ],
      "metadata": {
        "id": "WAMGFDndGEvh"
      },
      "execution_count": null,
      "outputs": []
    },
    {
      "cell_type": "markdown",
      "source": [
        "## Конфигурационные файлы\n",
        "\n",
        "* /etc/hadoop/core-site.xml CORE_CONF\n",
        "* /etc/hadoop/hdfs-site.xml HDFS_CONF\n",
        "* /etc/hadoop/yarn-site.xml YARN_CONF\n",
        "* /etc/hadoop/httpfs-site.xml HTTPFS_CONF\n",
        "* /etc/hadoop/kms-site.xml KMS_CONF\n",
        "* /etc/hadoop/mapred-site.xml MAPRED_CONF"
      ],
      "metadata": {
        "id": "PgtaWJjVFhNS"
      }
    },
    {
      "cell_type": "markdown",
      "source": [
        "### core-site.xml\n"
      ],
      "metadata": {
        "id": "GKxwuXv4GPMi"
      }
    },
    {
      "cell_type": "code",
      "source": [
        "<?xml version=\"1.0\" encoding=\"UTF-8\"?>\n",
        "<?xml-stylesheet type=\"text/xsl\" href=\"configuration.xsl\"?>\n",
        "<!--\n",
        "  Licensed under the Apache License, Version 2.0 (the \"License\");\n",
        "  you may not use this file except in compliance with the License.\n",
        "  You may obtain a copy of the License at\n",
        "\n",
        "    http://www.apache.org/licenses/LICENSE-2.0\n",
        "\n",
        "  Unless required by applicable law or agreed to in writing, software\n",
        "  distributed under the License is distributed on an \"AS IS\" BASIS,\n",
        "  WITHOUT WARRANTIES OR CONDITIONS OF ANY KIND, either express or implied.\n",
        "  See the License for the specific language governing permissions and\n",
        "  limitations under the License. See accompanying LICENSE file.\n",
        "-->\n",
        "\n",
        "<!-- Put site-specific property overrides in this file. -->\n",
        "\n",
        "<configuration>\n",
        "<property><name>fs.defaultFS</name><value>hdfs://namenode:8020</value></property># указывает на URI по умолчанию для файловой системы, с которой будет работать Hadoop.\n",
        "</configuration>\n"
      ],
      "metadata": {
        "id": "-kmZGqlqGoTz"
      },
      "execution_count": null,
      "outputs": []
    },
    {
      "cell_type": "markdown",
      "source": [
        "Возможные параметры:\n",
        "\n",
        "* hadoop.tmp.dir: путь к временным директориям Hadoop. Это место для хранения временных данных и промежуточных результатов.\n",
        "\n",
        "* io.file.buffer.size: размер буфера, используемого для операций ввода/вывода.\n",
        "\n",
        "* fs.trash.interval: Интервал времени в минутах для хранения удалённых файлов в корзине перед окончательным удалением."
      ],
      "metadata": {
        "id": "RCXBRTOyN4cJ"
      }
    },
    {
      "cell_type": "markdown",
      "source": [
        "### hdfs-site.xml\n"
      ],
      "metadata": {
        "id": "xolAZqqaIikm"
      }
    },
    {
      "cell_type": "code",
      "source": [
        "<?xml version=\"1.0\" encoding=\"UTF-8\"?>\n",
        "<?xml-stylesheet type=\"text/xsl\" href=\"configuration.xsl\"?>\n",
        "<!--\n",
        "  Licensed under the Apache License, Version 2.0 (the \"License\");\n",
        "  you may not use this file except in compliance with the License.\n",
        "  You may obtain a copy of the License at\n",
        "\n",
        "    http://www.apache.org/licenses/LICENSE-2.0\n",
        "\n",
        "  Unless required by applicable law or agreed to in writing, software\n",
        "  distributed under the License is distributed on an \"AS IS\" BASIS,\n",
        "  WITHOUT WARRANTIES OR CONDITIONS OF ANY KIND, either express or implied.\n",
        "  See the License for the specific language governing permissions and\n",
        "  limitations under the License. See accompanying LICENSE file.\n",
        "-->\n",
        "\n",
        "<!-- Put site-specific property overrides in this file. -->\n",
        "\n",
        "<configuration>\n",
        "\n",
        "<property><name>dfs.replication</name><value>1</value></property> # задает количество репликации для файлов, хранящихся в HDFS\n",
        "<property><name>dfs.permissions.enabled</name><value>false</value></property> # определяет, включены ли проверки прав доступа на уровне HDFS\n",
        "<property><name>dfs.namenode.name.dir</name><value>file:///hadoop/dfs/name</value></property> # определяет путь к локальной файловой системе, где namenode будет сохранять свои метаданные\n",
        "<property><name>dfs.namenode.rpc-bind-host</name><value>0.0.0.0</value></property> # Задает IP-адрес, к которому namenode будет привязывать свой RPC\n",
        "<property><name>dfs.namenode.servicerpc-bind-host</name><value>0.0.0.0</value></property> # IP-адрес для привязки сервиса RPC для namenode, который обслуживает запросы от datanode\n",
        "<property><name>dfs.namenode.http-bind-host</name><value>0.0.0.0</value></property> # IP-адрес для HTTP-интерфейса namenode, который используется для доступа к веб-интерфейсу\n",
        "<property><name>dfs.namenode.https-bind-host</name><value>0.0.0.0</value></property> # IP-адрес для HTTPS-интерфейса namenode, если включено безопасное соединение\n",
        "<property><name>dfs.client.use.datanode.hostname</name><value>true</value></property> # Указывает, должен ли клиент HDFS использовать имена хостов datanode вместо IP-адресов для связи\n",
        "<property><name>dfs.datanode.use.datanode.hostname</name><value>true</value></property> # Указывает, должен ли datanode сообщать namenode свое имя хоста вместо IP-адреса\n",
        "</configuration>\n"
      ],
      "metadata": {
        "id": "FbdyMLGHIwF0"
      },
      "execution_count": null,
      "outputs": []
    },
    {
      "cell_type": "markdown",
      "source": [
        "Возможные параметры:\n",
        "* dfs.blocksize: Размер блоков в HDFS.\n",
        "* dfs.namenode.replication.min: Минимальное количество реплик для блока данных.\n",
        "* dfs.datanode.data.dir: Путь к директории на datanode, где хранятся данные.\n"
      ],
      "metadata": {
        "id": "vW_bW_4dO0OG"
      }
    },
    {
      "cell_type": "markdown",
      "source": [
        "### yarn-site.xml"
      ],
      "metadata": {
        "id": "tj8mF3c5MM_W"
      }
    },
    {
      "cell_type": "code",
      "source": [
        "<?xml version=\"1.0\"?>\n",
        "<!--\n",
        "  Licensed under the Apache License, Version 2.0 (the \"License\");\n",
        "  you may not use this file except in compliance with the License.\n",
        "  You may obtain a copy of the License at\n",
        "\n",
        "    http://www.apache.org/licenses/LICENSE-2.0\n",
        "\n",
        "  Unless required by applicable law or agreed to in writing, software\n",
        "  distributed under the License is distributed on an \"AS IS\" BASIS,\n",
        "  WITHOUT WARRANTIES OR CONDITIONS OF ANY KIND, either express or implied.\n",
        "  See the License for the specific language governing permissions and\n",
        "  limitations under the License. See accompanying LICENSE file.\n",
        "-->\n",
        "<configuration>\n",
        "\n",
        "<!-- Site specific YARN configuration properties -->\n",
        "\n",
        "<property><name>yarn.resourcemanager.bind-host</name><value>0.0.0.0</value></property> # IP-адрес, к которому будет привязан recourcemanager\n",
        "<property><name>yarn.nodemanager.bind-host</name><value>0.0.0.0</value></property> # IP-адрес, к которому nodemanager будет привязывать свой интерфейс\n",
        "<property><name>yarn.nodemanager.bind-host</name><value>0.0.0.0</value></property> #\n",
        "<property><name>yarn.timeline-service.bind-host</name><value>0.0.0.0</value></property> # IP-адрес для привязки Timeline Service, который собирает и предоставляет информацию о выполнении приложений в YARN\n",
        "</configuration>\n"
      ],
      "metadata": {
        "id": "lUg4eHExMNzz"
      },
      "execution_count": null,
      "outputs": []
    },
    {
      "cell_type": "markdown",
      "source": [
        "Возможные параметры:\n",
        "* yarn.resourcemanager.hostname: Определяет hostname или IP-адрес recourcemanager.\n",
        "* yarn.nodemanager.aux-services: Определяет дополнительные сервисы, которые будут запускаться на nodemanager.\n",
        "* yarn.scheduler.maximum-allocation-mb: Максимальный объём памяти, который может быть выделен для одного контейнера.\n",
        "* yarn.scheduler.minimum-allocation-mb: Минимальный объём памяти, который может быть выделен для одного контейнера.\n",
        "* yarn.nodemanager.local-dirs: Путь к директориям на nodemanager, где будут храниться временные данные контейнеров.\n",
        "* yarn.nodemanager.vmem-check-enabled: Включает или отключает проверку виртуальной памяти.\n",
        "\n"
      ],
      "metadata": {
        "id": "mvABDkk6PXcs"
      }
    },
    {
      "cell_type": "markdown",
      "source": [
        "### mapred-site.xml"
      ],
      "metadata": {
        "id": "PysPHFGcM-6Y"
      }
    },
    {
      "cell_type": "code",
      "source": [
        "<?xml version=\"1.0\"?>\n",
        "<?xml-stylesheet type=\"text/xsl\" href=\"configuration.xsl\"?>\n",
        "<!--\n",
        "  Licensed under the Apache License, Version 2.0 (the \"License\");\n",
        "  you may not use this file except in compliance with the License.\n",
        "  You may obtain a copy of the License at\n",
        "\n",
        "    http://www.apache.org/licenses/LICENSE-2.0\n",
        "\n",
        "  Unless required by applicable law or agreed to in writing, software\n",
        "  distributed under the License is distributed on an \"AS IS\" BASIS,\n",
        "  WITHOUT WARRANTIES OR CONDITIONS OF ANY KIND, either express or implied.\n",
        "  See the License for the specific language governing permissions and\n",
        "  limitations under the License. See accompanying LICENSE file.\n",
        "-->\n",
        "\n",
        "<!-- Put site-specific property overrides in this file. -->\n",
        "\n",
        "<configuration>\n",
        "\n",
        "<property><name>yarn.nodemanager.bind-host</name><value>0.0.0.0</value></property> # IP-адрес, к которому будет привязан nodemanager\n",
        "</configuration>\n"
      ],
      "metadata": {
        "id": "laonCixdNHU5"
      },
      "execution_count": null,
      "outputs": []
    },
    {
      "cell_type": "markdown",
      "source": [
        "## Работа с hdfs\n",
        "\n",
        "Основные команды:\n",
        "* hdfs dfsadmin -report: проверка состояния файловой системы\n",
        "* hdfs dfs -ls / : Отображение файлов и каталогов\n",
        "* hdfs dfs -mkdir -p <путь и название директории> : создание каталогов\n",
        "* hdfs namenode -format : Форматирование hdfs\n",
        "* hdfs dfs -put <файл> <путь куда скопировать> : копирование файла в hdfs\n",
        "* hdfs dfs -cat <путь до файла> : просмотр содержимого\n",
        "* hdfs dfs -head <путь до файла> : просмотр первых нескольких строк\n",
        "* hdfs dfs -tail <путь до файла> : просмотр последних нескольких строк\n",
        "* hdfs dfs -cp <путь откуда> <путь куда> : копирование файла\n",
        "* hdfs dfs -mv <путь откуда> <путь куда> : перемещение файла\n",
        "* hdfs dfs -get <путь откуда hdfs> <путь куда локальный компьютер> : скачивание файла на локальный компьютер\n",
        "* hdfs dfs -rm <путь до файла> : удаление файла\n",
        "* hdfs dfs -rm -r <путь до каталога> : удаление каталога\n",
        "\n"
      ],
      "metadata": {
        "id": "o15kY36IRZA5"
      }
    }
  ]
}